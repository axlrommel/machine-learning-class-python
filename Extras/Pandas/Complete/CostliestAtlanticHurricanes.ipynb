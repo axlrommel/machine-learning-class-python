{
 "cells": [
  {
   "cell_type": "markdown",
   "metadata": {},
   "source": [
    "# Overview\n",
    "Hurricanes can be very damaging in terms of life and cost as we have seen during the year 2017, when hurricanes like Harvey, Irma and Maria caused pandemonium in the Atlantic Basin. We have compiled from Wikipedia a list of the costliest hurricanes in the Atlantic. This data can give us insights on which have been the most costly hurricanes, the busiest seasons, and the areas that have been affected the most."
   ]
  },
  {
   "cell_type": "markdown",
   "metadata": {},
   "source": [
    "# Data & Setup\n",
    "The data has been collected from https://en.wikipedia.org/wiki/List_of_costliest_Atlantic_hurricanes. The data from 2017 has not been published yet, so it's not included in this dataset"
   ]
  },
  {
   "cell_type": "code",
   "execution_count": 21,
   "metadata": {},
   "outputs": [],
   "source": [
    "import pandas as pd\n",
    "import numpy as np\n",
    "proxy='https://proxy.mentoracademy.org/getContentFromWikiUrl/'\n",
    "df1 = pd.read_html('https://en.wikipedia.org/wiki/List_of_costliest_Atlantic_hurricanes')\n",
    "df = df1[0].drop(df1[0].index[0]).drop(5, axis=1)\n",
    "df.columns = ['Name','Cost in Billions','Season','Classification','Areas Affected']\n",
    "df['Classification']=df['Classification'].apply(lambda x: str(x)[3:]).apply(lambda x: x.strip()).replace('\\xa0',' ',regex=True)\n",
    "df['Cost in Billions']=df['Cost in Billions'].apply(lambda x: str(x)[1:]).apply(pd.to_numeric)"
   ]
  },
  {
   "cell_type": "markdown",
   "metadata": {},
   "source": [
    "# Skills & Concepts\n",
    "The third cell of the notebook will not be shown to the learner, and lists the skills and concepts you are aiming to test with this question. Please remove all of the bullets from list below which you are *not* testing with this question. You can add new bullets with new skills wherever you see fit, and skills can focus on specific APIs or tools or more broadly on concepts related to the course. And don't worry if you're not sure, this is just a best guess list, there are usually many ways to solve a problem!\n",
    "\n",
    "* python-strings\n",
    "* python-pandas-Series\n",
    "* python-pandas-DataFrame\n",
    "* python-pandas-DataFrame-groupby\n",
    "* python-pandas-DataFrame-agg"
   ]
  },
  {
   "cell_type": "code",
   "execution_count": 22,
   "metadata": {
    "collapsed": true
   },
   "outputs": [],
   "source": [
    "# list the 10 most costly hurricanes and their season\n",
    "# it should return a dataframe with two columns: the name of the hurricane and the season\n",
    "def question1():\n",
    "    data = df\n",
    "    return \"Answer\" # put your answer here"
   ]
  },
  {
   "cell_type": "code",
   "execution_count": 23,
   "metadata": {},
   "outputs": [
    {
     "data": {
      "text/html": [
       "<div>\n",
       "<table border=\"1\" class=\"dataframe\">\n",
       "  <thead>\n",
       "    <tr style=\"text-align: right;\">\n",
       "      <th></th>\n",
       "      <th>Name</th>\n",
       "      <th>Season</th>\n",
       "    </tr>\n",
       "  </thead>\n",
       "  <tbody>\n",
       "    <tr>\n",
       "      <th>1</th>\n",
       "      <td>Katrina</td>\n",
       "      <td>2005</td>\n",
       "    </tr>\n",
       "    <tr>\n",
       "      <th>2</th>\n",
       "      <td>Sandy</td>\n",
       "      <td>2012</td>\n",
       "    </tr>\n",
       "    <tr>\n",
       "      <th>3</th>\n",
       "      <td>Ike</td>\n",
       "      <td>2008</td>\n",
       "    </tr>\n",
       "    <tr>\n",
       "      <th>4</th>\n",
       "      <td>Wilma</td>\n",
       "      <td>2005</td>\n",
       "    </tr>\n",
       "    <tr>\n",
       "      <th>5</th>\n",
       "      <td>Andrew</td>\n",
       "      <td>1992</td>\n",
       "    </tr>\n",
       "    <tr>\n",
       "      <th>6</th>\n",
       "      <td>Ivan</td>\n",
       "      <td>2004</td>\n",
       "    </tr>\n",
       "    <tr>\n",
       "      <th>7</th>\n",
       "      <td>Irene</td>\n",
       "      <td>2011</td>\n",
       "    </tr>\n",
       "    <tr>\n",
       "      <th>8</th>\n",
       "      <td>Charley</td>\n",
       "      <td>2004</td>\n",
       "    </tr>\n",
       "    <tr>\n",
       "      <th>9</th>\n",
       "      <td>Matthew</td>\n",
       "      <td>2016</td>\n",
       "    </tr>\n",
       "    <tr>\n",
       "      <th>10</th>\n",
       "      <td>Rita</td>\n",
       "      <td>2005</td>\n",
       "    </tr>\n",
       "  </tbody>\n",
       "</table>\n",
       "</div>"
      ],
      "text/plain": [
       "       Name Season\n",
       "1   Katrina   2005\n",
       "2     Sandy   2012\n",
       "3       Ike   2008\n",
       "4     Wilma   2005\n",
       "5    Andrew   1992\n",
       "6      Ivan   2004\n",
       "7     Irene   2011\n",
       "8   Charley   2004\n",
       "9   Matthew   2016\n",
       "10     Rita   2005"
      ]
     },
     "execution_count": 23,
     "metadata": {},
     "output_type": "execute_result"
    }
   ],
   "source": [
    "# we will need to sort on the dataframe and return the top 10 rows and the two columns needed\n",
    "def solution1():\n",
    "    return (df.sort_values(['Cost in Billions'], ascending = False).head(10)[['Name','Season']])\n",
    "\n",
    "solution1()"
   ]
  },
  {
   "cell_type": "code",
   "execution_count": 24,
   "metadata": {
    "collapsed": true
   },
   "outputs": [],
   "source": [
    "# find the four seasons with the most hurricanes on this list: \n",
    "# return a dataset of size 4 with an index of \n",
    "# season, and a value of number of hurricanes for that season\n",
    "# ordered from most hurricanes to least hurricanes:\n",
    "# e.g\n",
    "# 2005  6\n",
    "# 2012  2\n",
    "# ... \n",
    "def question2():\n",
    "    data = df\n",
    "    return \"Answer\" # put your answer here"
   ]
  },
  {
   "cell_type": "code",
   "execution_count": 25,
   "metadata": {},
   "outputs": [
    {
     "data": {
      "text/plain": [
       "2005    6\n",
       "2004    4\n",
       "1995    4\n",
       "2008    3\n",
       "Name: Season, dtype: int64"
      ]
     },
     "execution_count": 25,
     "metadata": {},
     "output_type": "execute_result"
    }
   ],
   "source": [
    "# count the number of hurricanes per season and return the top 4\n",
    "def solution2():\n",
    "    return (df['Season'].value_counts().head(4))\n",
    "\n",
    "solution2()"
   ]
  },
  {
   "cell_type": "code",
   "execution_count": 26,
   "metadata": {
    "collapsed": true
   },
   "outputs": [],
   "source": [
    "# compare the cost of the damage caused by the hurricanes for Cuba, \n",
    "# Mexico and United States.\n",
    "# return a tuple with the three countries in order from more cost sustained\n",
    "# by hurricane damage to less cost sustained\n",
    "# e.g ('United States','Mexico','Cuba')\n",
    "# you can manually build the tuple based on the results\n",
    "# tip: you can use str.contains to look for that country string in the 'Areas Affected' column\n",
    "def question3():\n",
    "    data = df\n",
    "    return \"Answer\" # put your answer here"
   ]
  },
  {
   "cell_type": "code",
   "execution_count": 27,
   "metadata": {},
   "outputs": [
    {
     "data": {
      "text/plain": [
       "('United States', 'Mexico', 'Cuba')"
      ]
     },
     "execution_count": 27,
     "metadata": {},
     "output_type": "execute_result"
    }
   ],
   "source": [
    "# add the cost for hurricanes that affected that area\n",
    "def solution3():\n",
    "    \n",
    "    cuba = df[df['Areas Affected'].str.contains(\"Cuba\")]['Cost in Billions'].sum() #43.03\n",
    "    mexico = df[df['Areas Affected'].str.contains(\"Mexico\")]['Cost in Billions'].sum() # 26.464\n",
    "    us = df[df['Areas Affected'].str.contains(\"United States\")]['Cost in Billions'].sum() #411.41\n",
    "    return ('United States','Mexico','Cuba')\n",
    "    #return (us,cuba,mexico)\n",
    "\n",
    "solution3()"
   ]
  },
  {
   "cell_type": "code",
   "execution_count": 28,
   "metadata": {
    "collapsed": true
   },
   "outputs": [],
   "source": [
    "#List the four seasons which were most costly along with its associated cost\n",
    "#put your results in a series where the index is the season and the value is the cost\n",
    "# tip: you will need to use a groupby on the Season and then add the cost\n",
    "def question4():\n",
    "    data = df\n",
    "    return \"Answer\" # put your answer here"
   ]
  },
  {
   "cell_type": "code",
   "execution_count": 29,
   "metadata": {},
   "outputs": [
    {
     "data": {
      "text/plain": [
       "Season\n",
       "2005    158.084\n",
       "2012     77.390\n",
       "2004     57.060\n",
       "2008     45.460\n",
       "Name: Cost in Billions, dtype: float64"
      ]
     },
     "execution_count": 29,
     "metadata": {},
     "output_type": "execute_result"
    }
   ],
   "source": [
    "def solution4():\n",
    "    \n",
    "    return df.groupby('Season')['Cost in Billions'].sum().sort_values(ascending=False).head(4)\n",
    "\n",
    "solution4()"
   ]
  },
  {
   "cell_type": "code",
   "execution_count": 30,
   "metadata": {
    "collapsed": true
   },
   "outputs": [],
   "source": [
    "# How much more costly were hurricanes of category 5 than hurricanes of category 4\n",
    "# you result should be a single number representing the difference in billions\n",
    "# tip: you'll need to use a groupby on the Classification column\n",
    "def question5():\n",
    "    data = df\n",
    "    return \"Answer\" # put your answer here"
   ]
  },
  {
   "cell_type": "code",
   "execution_count": 31,
   "metadata": {},
   "outputs": [
    {
     "data": {
      "text/plain": [
       "144.56400000000002"
      ]
     },
     "execution_count": 31,
     "metadata": {},
     "output_type": "execute_result"
    }
   ],
   "source": [
    "def solution5():\n",
    "    se = df.groupby('Classification')['Cost in Billions'].sum()\n",
    "    return (se.loc['Category 5 hurricane'] - se.loc['Category 4 hurricane'])\n",
    "\n",
    "solution5()"
   ]
  }
 ],
 "metadata": {
  "kernelspec": {
   "display_name": "Python 3",
   "language": "python",
   "name": "python3"
  },
  "language_info": {
   "codemirror_mode": {
    "name": "ipython",
    "version": 3
   },
   "file_extension": ".py",
   "mimetype": "text/x-python",
   "name": "python",
   "nbconvert_exporter": "python",
   "pygments_lexer": "ipython3",
   "version": "3.6.0"
  }
 },
 "nbformat": 4,
 "nbformat_minor": 1
}
