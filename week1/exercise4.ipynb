{
 "cells": [
  {
   "cell_type": "markdown",
   "metadata": {},
   "source": [
    "Different Scoring mechanisms for Classification:\n"
   ]
  },
  {
   "cell_type": "markdown",
   "metadata": {},
   "source": [
    "https://www.kaggle.com/uciml/biomechanical-features-of-orthopedic-patients\n",
    "\n",
    "The data have been organized in two different but related classification tasks.\n",
    "\n",
    "column_3C_weka.csv (file with three class labels)\n",
    "\n",
    "The first task consists in classifying patients as belonging to one out of three categories: Normal (100 patients), Disk Hernia (60 patients) or Spondylolisthesis (150 patients).\n",
    "column_2C_weka.csv (file with two class labels)\n",
    "\n",
    "For the second task, the categories Disk Hernia and Spondylolisthesis were merged into a single category labelled as 'abnormal'. Thus, the second task consists in classifying patients as belonging to one out of two categories: Normal (100 patients) or Abnormal (210 patients).\n",
    "Content\n",
    "\n",
    "Field Descriptions:\n",
    "\n",
    "Each patient is represented in the data set by six biomechanical attributes derived from the shape and orientation of the pelvis and lumbar spine (each one is a column):\n",
    "\n",
    "pelvic incidence\n",
    "pelvic tilt\n",
    "lumbar lordosis angle\n",
    "sacral slope\n",
    "pelvic radius\n",
    "grade of spondylolisthesis\n",
    "\n",
    "Acknowledgements\n",
    "\n",
    "The original dataset was downloaded from UCI ML repository:\n",
    "\n",
    "Lichman, M. (2013). UCI Machine Learning Repository [http://archive.ics.uci.edu/ml]. Irvine, CA: University of California, School of Information and Computer Science\n",
    "\n",
    "Files were converted to CSV\n",
    "\n",
    "Inspiration\n",
    "\n",
    "Use these biomechanical features to classify patients according to their labels"
   ]
  },
  {
   "cell_type": "code",
   "execution_count": 1,
   "metadata": {},
   "outputs": [],
   "source": [
    "def readData():\n",
    "    import pandas as pd\n",
    "    df = pd.read_csv('orthopedic.txt')\n",
    "    y_ortho = df['class'].apply(lambda x: 1 if x in 'Abnormal' else 0)\n",
    "    X_ortho = df.drop(df.columns[[6]],axis=1)\n",
    "    return(X_ortho,y_ortho)\n",
    "    "
   ]
  },
  {
   "cell_type": "code",
   "execution_count": 2,
   "metadata": {},
   "outputs": [
    {
     "name": "stdout",
     "output_type": "stream",
     "text": [
      "[ 0.          0.          0.          0.          0.23276182  0.76723818]\n"
     ]
    },
    {
     "data": {
      "text/plain": [
       "(0.85775862068965514, 0.75641025641025639)"
      ]
     },
     "execution_count": 2,
     "metadata": {},
     "output_type": "execute_result"
    }
   ],
   "source": [
    "def decisionTree():\n",
    "    \n",
    "    import numpy as np\n",
    "    from sklearn.preprocessing import MinMaxScaler\n",
    "    from sklearn.tree import DecisionTreeClassifier\n",
    "    from sklearn.model_selection import train_test_split\n",
    "    \n",
    "    scaler = MinMaxScaler()\n",
    "    (X,y) = readData()\n",
    "    X_train, X_test, y_train, y_test = train_test_split(X, y,\n",
    "                                                       random_state = 0)\n",
    "    # both training set and testing set need to be scaled\n",
    "    X_train_scaled = scaler.fit_transform(X_train)\n",
    "    X_test_scaled = scaler.transform(X_test)\n",
    "    \n",
    "    tree = DecisionTreeClassifier(max_depth=2,random_state=0).fit(X_train_scaled, y_train)\n",
    "    print(tree.feature_importances_)\n",
    "#     print(returnColumnNames())\n",
    "    return (tree.score(X_train_scaled, y_train),tree.score(X_test_scaled, y_test))\n",
    "\n",
    "decisionTree()"
   ]
  },
  {
   "cell_type": "code",
   "execution_count": null,
   "metadata": {},
   "outputs": [],
   "source": []
  }
 ],
 "metadata": {
  "kernelspec": {
   "display_name": "Python 3",
   "language": "python",
   "name": "python3"
  },
  "language_info": {
   "codemirror_mode": {
    "name": "ipython",
    "version": 3
   },
   "file_extension": ".py",
   "mimetype": "text/x-python",
   "name": "python",
   "nbconvert_exporter": "python",
   "pygments_lexer": "ipython3",
   "version": "3.6.2"
  }
 },
 "nbformat": 4,
 "nbformat_minor": 2
}
