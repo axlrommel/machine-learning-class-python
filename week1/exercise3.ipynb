{
 "cells": [
  {
   "cell_type": "markdown",
   "metadata": {},
   "source": [
    "Topics Covered:\n",
    "Classification\n",
    "Nearest Neighbor\n",
    "SVC\n",
    "GridSearch CV"
   ]
  },
  {
   "cell_type": "code",
   "execution_count": null,
   "metadata": {},
   "outputs": [],
   "source": [
    "def getDataSet1():\n",
    "    import pandas as pd\n",
    "\n",
    "    df = pd.read_csv('scores.txt',header=None)\n",
    "    df.columns = ['test1','test2','pass']\n",
    "\n",
    "    X = df[['test1','test2']]\n",
    "    y = df['pass']\n",
    "    \n",
    "    return(X, y, df)\n"
   ]
  },
  {
   "cell_type": "code",
   "execution_count": null,
   "metadata": {},
   "outputs": [],
   "source": [
    "def getDataSet2():\n",
    "    import pandas as pd\n",
    "\n",
    "    df = pd.read_csv('transistor.txt',header=None)\n",
    "    df.columns = ['test1','test2','pass']\n",
    "    \n",
    "    X = df[['test1','test2']]\n",
    "    y = df['pass']\n",
    "    return(X, y, df)"
   ]
  },
  {
   "cell_type": "code",
   "execution_count": null,
   "metadata": {},
   "outputs": [],
   "source": [
    "def plotData():\n",
    "    import matplotlib.pyplot as plt\n",
    "    \n",
    "    (X,y,df) = getDataSet2()\n",
    "    notPassed = df[df['pass'] == 0]\n",
    "    passed = df[df['pass'] == 1]\n",
    "    \n",
    "    plt.plot(notPassed['test1'],notPassed['test2'],'go')\n",
    "    plt.plot(passed['test1'],passed['test2'],'bo')\n",
    "    plt.show()\n",
    "\n",
    "plotData()\n",
    "    "
   ]
  },
  {
   "cell_type": "code",
   "execution_count": null,
   "metadata": {},
   "outputs": [],
   "source": [
    "def plotSolution(df,predict):\n",
    "    \n",
    "    import matplotlib.pyplot as plt\n",
    "    import numpy as np\n",
    "    from matplotlib.colors import ListedColormap\n",
    "    \n",
    "    cmap_light = ListedColormap(['#FFAAAA', '#AAFFAA', '#AAAAFF'])\n",
    "    \n",
    "    gridSize = (df['test1'].max() - df['test1'].min())/100\n",
    "    \n",
    "    x_min, x_max = df['test1'].min() - 3*gridSize, df['test1'].max() + 3*gridSize\n",
    "    y_min, y_max = df['test2'].min() - 3*gridSize, df['test2'].max() + 3*gridSize\n",
    "    xx, yy = np.meshgrid(np.arange(x_min, x_max, gridSize),np.arange(y_min, y_max, gridSize))\n",
    "    \n",
    "    Z = predict(np.c_[xx.ravel(), yy.ravel()])\n",
    "    Z = Z.reshape(xx.shape)\n",
    "    \n",
    "    notPassed = df[df['pass'] == 0]\n",
    "    passed = df[df['pass'] == 1]\n",
    "    \n",
    "    plt.pcolormesh(xx, yy, Z, cmap=cmap_light)\n",
    "    plt.plot(notPassed['test1'],notPassed['test2'],'go')\n",
    "    plt.plot(passed['test1'],passed['test2'],'bo')\n",
    "    plt.show()"
   ]
  },
  {
   "cell_type": "code",
   "execution_count": null,
   "metadata": {},
   "outputs": [],
   "source": [
    "#default is a stratified solution for dummy classifier\n",
    "def getDummyClassifier():\n",
    "    from sklearn.dummy import DummyClassifier\n",
    "    from sklearn.model_selection import train_test_split\n",
    "    \n",
    "    (X,y,df) = getDataSet1()\n",
    "    \n",
    "    X_train, X_test, y_train, y_test = train_test_split(X,y, random_state=0)\n",
    "    dummy = DummyClassifier(strategy='most_frequent').fit(X_train,y_train)\n",
    "#     dummy = DummyClassifier(random_state=0).fit(X_train,y_train)\n",
    "    plotSolution(df,dummy.predict)\n",
    "    return (dummy.score(X_train, y_train),dummy.score(X_test, y_test))\n",
    "\n",
    "getDummyClassifier()"
   ]
  },
  {
   "cell_type": "code",
   "execution_count": null,
   "metadata": {},
   "outputs": [],
   "source": [
    "# change the n_neighbors parameter between 1 and 4 for testset 1 and 2, notice the\n",
    "# different graph and results\n",
    "# how many nearest neighbors is best for data set 1, how about for dataset 2\n",
    "def getKNearestNeighbor():\n",
    "    \n",
    "    from sklearn.neighbors import KNeighborsClassifier\n",
    "    from sklearn.model_selection import train_test_split\n",
    "    \n",
    "    neighbors=3\n",
    "    (X,y,df) = getDataSet1()\n",
    "    \n",
    "    X_train, X_test, y_train, y_test = train_test_split(X,y, random_state=0)\n",
    "    neigh = KNeighborsClassifier(n_neighbors = neighbors).fit(X_train,y_train)\n",
    "    plotSolution(df,neigh.predict)\n",
    "    return (neigh.score(X_train, y_train),neigh.score(X_test, y_test))\n",
    "\n",
    "getKNearestNeighbor()\n",
    "    "
   ]
  },
  {
   "cell_type": "code",
   "execution_count": null,
   "metadata": {},
   "outputs": [],
   "source": [
    "# change the n_neighbors parameter between 1 and 4 for testset 1 and 2, notice the\n",
    "# different graph and results\n",
    "# how many nearest neighbors is best for data set 1, how about for dataset 2\n",
    "def getDecisionTree():\n",
    "    \n",
    "    from sklearn.tree import DecisionTreeClassifier\n",
    "    from sklearn.model_selection import train_test_split\n",
    "    \n",
    "    depth = 0\n",
    "    (X,y,df) = getDataSet1()\n",
    "    \n",
    "    X_train, X_test, y_train, y_test = train_test_split(X,y, random_state=0)\n",
    "#     tree = DecisionTreeClassifier(max_depth = depth, random_state=0).fit(X_train,y_train)\n",
    "    tree = DecisionTreeClassifier(random_state=0).fit(X_train,y_train)\n",
    "    plotSolution(df,tree.predict)\n",
    "    return (tree.score(X_train, y_train),tree.score(X_test, y_test))\n",
    "\n",
    "getDecisionTree()"
   ]
  },
  {
   "cell_type": "code",
   "execution_count": null,
   "metadata": {},
   "outputs": [],
   "source": [
    "#run for set1 and set2, notice the difference\n",
    "def getSVC():\n",
    "\n",
    "    from sklearn.model_selection import train_test_split\n",
    "    from sklearn.svm import SVC \n",
    "    \n",
    "    (X,y,df) = getDataSet1()\n",
    "    X_train, X_test, y_train, y_test = train_test_split(X,y, random_state=0)\n",
    "    svc = SVC().fit(X_train,y_train)\n",
    "    plotSolution(df,svc.predict)\n",
    "    return (svc.score(X_train, y_train),svc.score(X_test, y_test))\n",
    "\n",
    "getSVC()"
   ]
  },
  {
   "cell_type": "code",
   "execution_count": null,
   "metadata": {},
   "outputs": [],
   "source": [
    "#run for set1 and set2, notice the difference\n",
    "def getSVCGridSearch():\n",
    "\n",
    "    from sklearn.model_selection import train_test_split\n",
    "    from sklearn.svm import SVC\n",
    "    from sklearn.model_selection import GridSearchCV\n",
    "    \n",
    "    (X,y,df) = getDataSet2()\n",
    "    X_train, X_test, y_train, y_test = train_test_split(X,y, random_state=0)\n",
    "    parameters = {'kernel':('linear', 'rbf'), 'C':[1,5,10,20,50]}\n",
    "    clf = GridSearchCV(SVC(), parameters)\n",
    "    clf.fit(X_train,y_train)\n",
    "    svc = clf.best_estimator_.fit(X_train,y_train)\n",
    "    plotSolution(df,svc.predict)\n",
    "    print(svc)\n",
    "    return (svc.score(X_train, y_train),svc.score(X_test, y_test))\n",
    "\n",
    "getSVCGridSearch()"
   ]
  },
  {
   "cell_type": "code",
   "execution_count": null,
   "metadata": {},
   "outputs": [],
   "source": [
    "# with your best nearest neighbor for dataset1 calculate the probability that \n",
    "# a student that gets 55 and 55, and 60 and 60 will pass, how about 65 and 65? \n",
    "# 70 and 70?\n",
    "# SVC cannot give you probability, will only give you the prediction, so for the best SVC \n",
    "# tell me if that student is going to pass or not for the same grades above\n",
    "def calculateProb():\n",
    "\n",
    "    from sklearn.neighbors import KNeighborsClassifier\n",
    "    from sklearn.svm import SVC\n",
    "    from sklearn.model_selection import train_test_split\n",
    "    \n",
    "    predictArray = [[50,50],[55,55],[60,60],[65,65]]\n",
    "    neighbors=3\n",
    "    (X,y,df) = getDataSet1()\n",
    "    \n",
    "    X_train, X_test, y_train, y_test = train_test_split(X,y, random_state=0)\n",
    "    \n",
    "    neigh = KNeighborsClassifier(n_neighbors = neighbors).fit(X_train,y_train)\n",
    "    \n",
    "    svc = SVC(C=1, cache_size=200, class_weight=None, coef0=0.0,\n",
    "  decision_function_shape='ovr', degree=3, gamma='auto', kernel='linear',\n",
    "  max_iter=-1, probability=False, random_state=None, shrinking=True,\n",
    "  tol=0.001, verbose=False).fit(X_train,y_train)\n",
    "    print(\"Nearest Neighbor: \\n\", neigh.predict_proba(predictArray))\n",
    "    print(\"SVC: \\n\", svc.predict(predictArray))\n",
    "calculateProb()"
   ]
  },
  {
   "cell_type": "code",
   "execution_count": null,
   "metadata": {},
   "outputs": [],
   "source": []
  }
 ],
 "metadata": {
  "kernelspec": {
   "display_name": "Python 3",
   "language": "python",
   "name": "python3"
  },
  "language_info": {
   "codemirror_mode": {
    "name": "ipython",
    "version": 3
   },
   "file_extension": ".py",
   "mimetype": "text/x-python",
   "name": "python",
   "nbconvert_exporter": "python",
   "pygments_lexer": "ipython3",
   "version": "3.6.2"
  }
 },
 "nbformat": 4,
 "nbformat_minor": 2
}
